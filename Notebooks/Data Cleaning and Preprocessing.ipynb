{
 "cells": [
  {
   "cell_type": "markdown",
   "metadata": {},
   "source": [
    "# Data Cleaning"
   ]
  },
  {
   "cell_type": "code",
   "execution_count": 1,
   "metadata": {},
   "outputs": [],
   "source": [
    "#importing libraries\n",
    "import pandas as pd\n",
    "import numpy as np\n",
    "import matplotlib.pyplot as plt\n",
    "%matplotlib inline\n",
    "import seaborn as sns\n",
    "\n",
    "pd.pandas.set_option('display.max_columns',None)"
   ]
  },
  {
   "cell_type": "markdown",
   "metadata": {},
   "source": [
    "## What is the data and how does it look like?"
   ]
  },
  {
   "cell_type": "code",
   "execution_count": 2,
   "metadata": {},
   "outputs": [
    {
     "data": {
      "text/html": [
       "<div>\n",
       "<style scoped>\n",
       "    .dataframe tbody tr th:only-of-type {\n",
       "        vertical-align: middle;\n",
       "    }\n",
       "\n",
       "    .dataframe tbody tr th {\n",
       "        vertical-align: top;\n",
       "    }\n",
       "\n",
       "    .dataframe thead th {\n",
       "        text-align: right;\n",
       "    }\n",
       "</style>\n",
       "<table border=\"1\" class=\"dataframe\">\n",
       "  <thead>\n",
       "    <tr style=\"text-align: right;\">\n",
       "      <th></th>\n",
       "      <th>Humidity</th>\n",
       "      <th>Temperature</th>\n",
       "      <th>Step count</th>\n",
       "      <th>Stress Level</th>\n",
       "    </tr>\n",
       "  </thead>\n",
       "  <tbody>\n",
       "    <tr>\n",
       "      <th>0</th>\n",
       "      <td>21.33</td>\n",
       "      <td>90.33</td>\n",
       "      <td>123</td>\n",
       "      <td>1</td>\n",
       "    </tr>\n",
       "    <tr>\n",
       "      <th>1</th>\n",
       "      <td>21.41</td>\n",
       "      <td>90.41</td>\n",
       "      <td>93</td>\n",
       "      <td>1</td>\n",
       "    </tr>\n",
       "    <tr>\n",
       "      <th>2</th>\n",
       "      <td>27.12</td>\n",
       "      <td>96.12</td>\n",
       "      <td>196</td>\n",
       "      <td>2</td>\n",
       "    </tr>\n",
       "    <tr>\n",
       "      <th>3</th>\n",
       "      <td>27.64</td>\n",
       "      <td>96.64</td>\n",
       "      <td>177</td>\n",
       "      <td>2</td>\n",
       "    </tr>\n",
       "    <tr>\n",
       "      <th>4</th>\n",
       "      <td>10.87</td>\n",
       "      <td>79.87</td>\n",
       "      <td>87</td>\n",
       "      <td>0</td>\n",
       "    </tr>\n",
       "  </tbody>\n",
       "</table>\n",
       "</div>"
      ],
      "text/plain": [
       "   Humidity  Temperature  Step count  Stress Level\n",
       "0     21.33        90.33         123             1\n",
       "1     21.41        90.41          93             1\n",
       "2     27.12        96.12         196             2\n",
       "3     27.64        96.64         177             2\n",
       "4     10.87        79.87          87             0"
      ]
     },
     "execution_count": 2,
     "metadata": {},
     "output_type": "execute_result"
    }
   ],
   "source": [
    "df=pd.read_csv('Stress-Lysis.csv')\n",
    "df.head()"
   ]
  },
  {
   "cell_type": "code",
   "execution_count": 3,
   "metadata": {},
   "outputs": [
    {
     "data": {
      "text/html": [
       "<div>\n",
       "<style scoped>\n",
       "    .dataframe tbody tr th:only-of-type {\n",
       "        vertical-align: middle;\n",
       "    }\n",
       "\n",
       "    .dataframe tbody tr th {\n",
       "        vertical-align: top;\n",
       "    }\n",
       "\n",
       "    .dataframe thead th {\n",
       "        text-align: right;\n",
       "    }\n",
       "</style>\n",
       "<table border=\"1\" class=\"dataframe\">\n",
       "  <thead>\n",
       "    <tr style=\"text-align: right;\">\n",
       "      <th></th>\n",
       "      <th>Humidity</th>\n",
       "      <th>Temperature</th>\n",
       "      <th>Step count</th>\n",
       "      <th>Stress Level</th>\n",
       "    </tr>\n",
       "  </thead>\n",
       "  <tbody>\n",
       "    <tr>\n",
       "      <th>152</th>\n",
       "      <td>29.94</td>\n",
       "      <td>98.94</td>\n",
       "      <td>194</td>\n",
       "      <td>2</td>\n",
       "    </tr>\n",
       "    <tr>\n",
       "      <th>1818</th>\n",
       "      <td>19.86</td>\n",
       "      <td>88.86</td>\n",
       "      <td>128</td>\n",
       "      <td>1</td>\n",
       "    </tr>\n",
       "    <tr>\n",
       "      <th>834</th>\n",
       "      <td>19.98</td>\n",
       "      <td>88.98</td>\n",
       "      <td>102</td>\n",
       "      <td>1</td>\n",
       "    </tr>\n",
       "    <tr>\n",
       "      <th>230</th>\n",
       "      <td>15.43</td>\n",
       "      <td>84.43</td>\n",
       "      <td>88</td>\n",
       "      <td>1</td>\n",
       "    </tr>\n",
       "    <tr>\n",
       "      <th>838</th>\n",
       "      <td>28.21</td>\n",
       "      <td>97.21</td>\n",
       "      <td>163</td>\n",
       "      <td>2</td>\n",
       "    </tr>\n",
       "  </tbody>\n",
       "</table>\n",
       "</div>"
      ],
      "text/plain": [
       "      Humidity  Temperature  Step count  Stress Level\n",
       "152      29.94        98.94         194             2\n",
       "1818     19.86        88.86         128             1\n",
       "834      19.98        88.98         102             1\n",
       "230      15.43        84.43          88             1\n",
       "838      28.21        97.21         163             2"
      ]
     },
     "execution_count": 3,
     "metadata": {},
     "output_type": "execute_result"
    }
   ],
   "source": [
    "df.sample(5)"
   ]
  },
  {
   "cell_type": "raw",
   "metadata": {},
   "source": [
    "We have used sample here to get a non biased look at our dataset. (Gets random rows unlike .head())"
   ]
  },
  {
   "cell_type": "markdown",
   "metadata": {},
   "source": [
    "## Size of dataset"
   ]
  },
  {
   "cell_type": "code",
   "execution_count": 4,
   "metadata": {},
   "outputs": [
    {
     "name": "stdout",
     "output_type": "stream",
     "text": [
      "(2001, 4)\n"
     ]
    }
   ],
   "source": [
    "print(df.shape)"
   ]
  },
  {
   "cell_type": "raw",
   "metadata": {},
   "source": [
    "We understand thaat dataset contains 4 rows and 2001 rows."
   ]
  },
  {
   "cell_type": "markdown",
   "metadata": {},
   "source": [
    "## Info of features in data"
   ]
  },
  {
   "cell_type": "code",
   "execution_count": 5,
   "metadata": {},
   "outputs": [
    {
     "name": "stdout",
     "output_type": "stream",
     "text": [
      "<class 'pandas.core.frame.DataFrame'>\n",
      "RangeIndex: 2001 entries, 0 to 2000\n",
      "Data columns (total 4 columns):\n",
      " #   Column        Non-Null Count  Dtype  \n",
      "---  ------        --------------  -----  \n",
      " 0   Humidity      2001 non-null   float64\n",
      " 1   Temperature   2001 non-null   float64\n",
      " 2   Step count    2001 non-null   int64  \n",
      " 3   Stress Level  2001 non-null   int64  \n",
      "dtypes: float64(2), int64(2)\n",
      "memory usage: 62.7 KB\n"
     ]
    }
   ],
   "source": [
    "df.info()"
   ]
  },
  {
   "cell_type": "raw",
   "metadata": {},
   "source": [
    "No object type feature present."
   ]
  },
  {
   "cell_type": "markdown",
   "metadata": {},
   "source": [
    "## Checking and Handling Null Values"
   ]
  },
  {
   "cell_type": "code",
   "execution_count": 6,
   "metadata": {
    "scrolled": true
   },
   "outputs": [
    {
     "data": {
      "text/plain": [
       "Humidity        0\n",
       "Temperature     0\n",
       "Step count      0\n",
       "Stress Level    0\n",
       "dtype: int64"
      ]
     },
     "execution_count": 6,
     "metadata": {},
     "output_type": "execute_result"
    }
   ],
   "source": [
    "df.isnull().sum()"
   ]
  },
  {
   "cell_type": "code",
   "execution_count": 7,
   "metadata": {},
   "outputs": [
    {
     "data": {
      "text/html": [
       "<div>\n",
       "<style scoped>\n",
       "    .dataframe tbody tr th:only-of-type {\n",
       "        vertical-align: middle;\n",
       "    }\n",
       "\n",
       "    .dataframe tbody tr th {\n",
       "        vertical-align: top;\n",
       "    }\n",
       "\n",
       "    .dataframe thead th {\n",
       "        text-align: right;\n",
       "    }\n",
       "</style>\n",
       "<table border=\"1\" class=\"dataframe\">\n",
       "  <thead>\n",
       "    <tr style=\"text-align: right;\">\n",
       "      <th></th>\n",
       "      <th>Humidity</th>\n",
       "      <th>Temperature</th>\n",
       "      <th>Step count</th>\n",
       "      <th>Stress Level</th>\n",
       "    </tr>\n",
       "  </thead>\n",
       "  <tbody>\n",
       "    <tr>\n",
       "      <th>0</th>\n",
       "      <td>False</td>\n",
       "      <td>False</td>\n",
       "      <td>False</td>\n",
       "      <td>False</td>\n",
       "    </tr>\n",
       "    <tr>\n",
       "      <th>1</th>\n",
       "      <td>False</td>\n",
       "      <td>False</td>\n",
       "      <td>False</td>\n",
       "      <td>False</td>\n",
       "    </tr>\n",
       "    <tr>\n",
       "      <th>2</th>\n",
       "      <td>False</td>\n",
       "      <td>False</td>\n",
       "      <td>False</td>\n",
       "      <td>False</td>\n",
       "    </tr>\n",
       "    <tr>\n",
       "      <th>3</th>\n",
       "      <td>False</td>\n",
       "      <td>False</td>\n",
       "      <td>False</td>\n",
       "      <td>False</td>\n",
       "    </tr>\n",
       "    <tr>\n",
       "      <th>4</th>\n",
       "      <td>False</td>\n",
       "      <td>False</td>\n",
       "      <td>False</td>\n",
       "      <td>False</td>\n",
       "    </tr>\n",
       "    <tr>\n",
       "      <th>...</th>\n",
       "      <td>...</td>\n",
       "      <td>...</td>\n",
       "      <td>...</td>\n",
       "      <td>...</td>\n",
       "    </tr>\n",
       "    <tr>\n",
       "      <th>1996</th>\n",
       "      <td>False</td>\n",
       "      <td>False</td>\n",
       "      <td>False</td>\n",
       "      <td>False</td>\n",
       "    </tr>\n",
       "    <tr>\n",
       "      <th>1997</th>\n",
       "      <td>False</td>\n",
       "      <td>False</td>\n",
       "      <td>False</td>\n",
       "      <td>False</td>\n",
       "    </tr>\n",
       "    <tr>\n",
       "      <th>1998</th>\n",
       "      <td>False</td>\n",
       "      <td>False</td>\n",
       "      <td>False</td>\n",
       "      <td>False</td>\n",
       "    </tr>\n",
       "    <tr>\n",
       "      <th>1999</th>\n",
       "      <td>False</td>\n",
       "      <td>False</td>\n",
       "      <td>False</td>\n",
       "      <td>False</td>\n",
       "    </tr>\n",
       "    <tr>\n",
       "      <th>2000</th>\n",
       "      <td>False</td>\n",
       "      <td>False</td>\n",
       "      <td>False</td>\n",
       "      <td>False</td>\n",
       "    </tr>\n",
       "  </tbody>\n",
       "</table>\n",
       "<p>2001 rows × 4 columns</p>\n",
       "</div>"
      ],
      "text/plain": [
       "      Humidity  Temperature  Step count  Stress Level\n",
       "0        False        False       False         False\n",
       "1        False        False       False         False\n",
       "2        False        False       False         False\n",
       "3        False        False       False         False\n",
       "4        False        False       False         False\n",
       "...        ...          ...         ...           ...\n",
       "1996     False        False       False         False\n",
       "1997     False        False       False         False\n",
       "1998     False        False       False         False\n",
       "1999     False        False       False         False\n",
       "2000     False        False       False         False\n",
       "\n",
       "[2001 rows x 4 columns]"
      ]
     },
     "execution_count": 7,
     "metadata": {},
     "output_type": "execute_result"
    }
   ],
   "source": [
    "df.isnull()"
   ]
  },
  {
   "cell_type": "raw",
   "metadata": {},
   "source": [
    "No null values found in the dataset."
   ]
  },
  {
   "cell_type": "markdown",
   "metadata": {},
   "source": [
    "## Mathematical Perspective of the data"
   ]
  },
  {
   "cell_type": "code",
   "execution_count": 8,
   "metadata": {},
   "outputs": [
    {
     "data": {
      "text/html": [
       "<div>\n",
       "<style scoped>\n",
       "    .dataframe tbody tr th:only-of-type {\n",
       "        vertical-align: middle;\n",
       "    }\n",
       "\n",
       "    .dataframe tbody tr th {\n",
       "        vertical-align: top;\n",
       "    }\n",
       "\n",
       "    .dataframe thead th {\n",
       "        text-align: right;\n",
       "    }\n",
       "</style>\n",
       "<table border=\"1\" class=\"dataframe\">\n",
       "  <thead>\n",
       "    <tr style=\"text-align: right;\">\n",
       "      <th></th>\n",
       "      <th>Humidity</th>\n",
       "      <th>Temperature</th>\n",
       "      <th>Step count</th>\n",
       "      <th>Stress Level</th>\n",
       "    </tr>\n",
       "  </thead>\n",
       "  <tbody>\n",
       "    <tr>\n",
       "      <th>count</th>\n",
       "      <td>2001.000000</td>\n",
       "      <td>2001.000000</td>\n",
       "      <td>2001.000000</td>\n",
       "      <td>2001.000000</td>\n",
       "    </tr>\n",
       "    <tr>\n",
       "      <th>mean</th>\n",
       "      <td>20.000000</td>\n",
       "      <td>89.000000</td>\n",
       "      <td>100.141429</td>\n",
       "      <td>1.104448</td>\n",
       "    </tr>\n",
       "    <tr>\n",
       "      <th>std</th>\n",
       "      <td>5.777833</td>\n",
       "      <td>5.777833</td>\n",
       "      <td>58.182948</td>\n",
       "      <td>0.771094</td>\n",
       "    </tr>\n",
       "    <tr>\n",
       "      <th>min</th>\n",
       "      <td>10.000000</td>\n",
       "      <td>79.000000</td>\n",
       "      <td>0.000000</td>\n",
       "      <td>0.000000</td>\n",
       "    </tr>\n",
       "    <tr>\n",
       "      <th>25%</th>\n",
       "      <td>15.000000</td>\n",
       "      <td>84.000000</td>\n",
       "      <td>50.000000</td>\n",
       "      <td>0.000000</td>\n",
       "    </tr>\n",
       "    <tr>\n",
       "      <th>50%</th>\n",
       "      <td>20.000000</td>\n",
       "      <td>89.000000</td>\n",
       "      <td>101.000000</td>\n",
       "      <td>1.000000</td>\n",
       "    </tr>\n",
       "    <tr>\n",
       "      <th>75%</th>\n",
       "      <td>25.000000</td>\n",
       "      <td>94.000000</td>\n",
       "      <td>150.000000</td>\n",
       "      <td>2.000000</td>\n",
       "    </tr>\n",
       "    <tr>\n",
       "      <th>max</th>\n",
       "      <td>30.000000</td>\n",
       "      <td>99.000000</td>\n",
       "      <td>200.000000</td>\n",
       "      <td>2.000000</td>\n",
       "    </tr>\n",
       "  </tbody>\n",
       "</table>\n",
       "</div>"
      ],
      "text/plain": [
       "          Humidity  Temperature   Step count  Stress Level\n",
       "count  2001.000000  2001.000000  2001.000000   2001.000000\n",
       "mean     20.000000    89.000000   100.141429      1.104448\n",
       "std       5.777833     5.777833    58.182948      0.771094\n",
       "min      10.000000    79.000000     0.000000      0.000000\n",
       "25%      15.000000    84.000000    50.000000      0.000000\n",
       "50%      20.000000    89.000000   101.000000      1.000000\n",
       "75%      25.000000    94.000000   150.000000      2.000000\n",
       "max      30.000000    99.000000   200.000000      2.000000"
      ]
     },
     "execution_count": 8,
     "metadata": {},
     "output_type": "execute_result"
    }
   ],
   "source": [
    "df.describe()"
   ]
  },
  {
   "cell_type": "raw",
   "metadata": {},
   "source": [
    "As all columns are numerical(like we concluded from df.info()) we get information in mathematical terms for all the features.\n",
    "Stress value has mean around 1 while, minimum of Stress level is 0 and max is 2."
   ]
  },
  {
   "cell_type": "code",
   "execution_count": 9,
   "metadata": {},
   "outputs": [
    {
     "name": "stdout",
     "output_type": "stream",
     "text": [
      "3\n"
     ]
    }
   ],
   "source": [
    "print(df['Stress Level'].unique().sum())"
   ]
  },
  {
   "cell_type": "raw",
   "metadata": {},
   "source": [
    "So, only 3 unique values are present. So we conclude that a classification model must be used for the target variable \n",
    "\"Stress Level\"."
   ]
  },
  {
   "cell_type": "markdown",
   "metadata": {},
   "source": [
    "## Checking and Handling Duplicate values"
   ]
  },
  {
   "cell_type": "code",
   "execution_count": 10,
   "metadata": {},
   "outputs": [
    {
     "data": {
      "text/plain": [
       "0"
      ]
     },
     "execution_count": 10,
     "metadata": {},
     "output_type": "execute_result"
    }
   ],
   "source": [
    "df.duplicated().sum()"
   ]
  },
  {
   "cell_type": "code",
   "execution_count": 11,
   "metadata": {},
   "outputs": [
    {
     "data": {
      "text/html": [
       "<div>\n",
       "<style scoped>\n",
       "    .dataframe tbody tr th:only-of-type {\n",
       "        vertical-align: middle;\n",
       "    }\n",
       "\n",
       "    .dataframe tbody tr th {\n",
       "        vertical-align: top;\n",
       "    }\n",
       "\n",
       "    .dataframe thead th {\n",
       "        text-align: right;\n",
       "    }\n",
       "</style>\n",
       "<table border=\"1\" class=\"dataframe\">\n",
       "  <thead>\n",
       "    <tr style=\"text-align: right;\">\n",
       "      <th></th>\n",
       "      <th>Humidity</th>\n",
       "      <th>Temperature</th>\n",
       "      <th>Step count</th>\n",
       "      <th>Stress Level</th>\n",
       "    </tr>\n",
       "  </thead>\n",
       "  <tbody>\n",
       "    <tr>\n",
       "      <th>0</th>\n",
       "      <td>21.33</td>\n",
       "      <td>90.33</td>\n",
       "      <td>123</td>\n",
       "      <td>1</td>\n",
       "    </tr>\n",
       "    <tr>\n",
       "      <th>1</th>\n",
       "      <td>21.41</td>\n",
       "      <td>90.41</td>\n",
       "      <td>93</td>\n",
       "      <td>1</td>\n",
       "    </tr>\n",
       "    <tr>\n",
       "      <th>2</th>\n",
       "      <td>27.12</td>\n",
       "      <td>96.12</td>\n",
       "      <td>196</td>\n",
       "      <td>2</td>\n",
       "    </tr>\n",
       "    <tr>\n",
       "      <th>3</th>\n",
       "      <td>27.64</td>\n",
       "      <td>96.64</td>\n",
       "      <td>177</td>\n",
       "      <td>2</td>\n",
       "    </tr>\n",
       "    <tr>\n",
       "      <th>4</th>\n",
       "      <td>10.87</td>\n",
       "      <td>79.87</td>\n",
       "      <td>87</td>\n",
       "      <td>0</td>\n",
       "    </tr>\n",
       "  </tbody>\n",
       "</table>\n",
       "</div>"
      ],
      "text/plain": [
       "   Humidity  Temperature  Step count  Stress Level\n",
       "0     21.33        90.33         123             1\n",
       "1     21.41        90.41          93             1\n",
       "2     27.12        96.12         196             2\n",
       "3     27.64        96.64         177             2\n",
       "4     10.87        79.87          87             0"
      ]
     },
     "execution_count": 11,
     "metadata": {},
     "output_type": "execute_result"
    }
   ],
   "source": [
    "df=df.drop_duplicates()\n",
    "df.head()"
   ]
  },
  {
   "cell_type": "raw",
   "metadata": {},
   "source": [
    "Though there are 0 rows found as duplicated we have still tried to handle the duplicate values."
   ]
  },
  {
   "cell_type": "markdown",
   "metadata": {},
   "source": [
    "## Correlation between the columns"
   ]
  },
  {
   "cell_type": "markdown",
   "metadata": {},
   "source": [
    "### Numerical"
   ]
  },
  {
   "cell_type": "code",
   "execution_count": 12,
   "metadata": {},
   "outputs": [
    {
     "data": {
      "text/html": [
       "<div>\n",
       "<style scoped>\n",
       "    .dataframe tbody tr th:only-of-type {\n",
       "        vertical-align: middle;\n",
       "    }\n",
       "\n",
       "    .dataframe tbody tr th {\n",
       "        vertical-align: top;\n",
       "    }\n",
       "\n",
       "    .dataframe thead th {\n",
       "        text-align: right;\n",
       "    }\n",
       "</style>\n",
       "<table border=\"1\" class=\"dataframe\">\n",
       "  <thead>\n",
       "    <tr style=\"text-align: right;\">\n",
       "      <th></th>\n",
       "      <th>Humidity</th>\n",
       "      <th>Temperature</th>\n",
       "      <th>Step count</th>\n",
       "      <th>Stress Level</th>\n",
       "    </tr>\n",
       "  </thead>\n",
       "  <tbody>\n",
       "    <tr>\n",
       "      <th>Humidity</th>\n",
       "      <td>1.000000</td>\n",
       "      <td>1.000000</td>\n",
       "      <td>0.870486</td>\n",
       "      <td>0.936036</td>\n",
       "    </tr>\n",
       "    <tr>\n",
       "      <th>Temperature</th>\n",
       "      <td>1.000000</td>\n",
       "      <td>1.000000</td>\n",
       "      <td>0.870486</td>\n",
       "      <td>0.936036</td>\n",
       "    </tr>\n",
       "    <tr>\n",
       "      <th>Step count</th>\n",
       "      <td>0.870486</td>\n",
       "      <td>0.870486</td>\n",
       "      <td>1.000000</td>\n",
       "      <td>0.832623</td>\n",
       "    </tr>\n",
       "    <tr>\n",
       "      <th>Stress Level</th>\n",
       "      <td>0.936036</td>\n",
       "      <td>0.936036</td>\n",
       "      <td>0.832623</td>\n",
       "      <td>1.000000</td>\n",
       "    </tr>\n",
       "  </tbody>\n",
       "</table>\n",
       "</div>"
      ],
      "text/plain": [
       "              Humidity  Temperature  Step count  Stress Level\n",
       "Humidity      1.000000     1.000000    0.870486      0.936036\n",
       "Temperature   1.000000     1.000000    0.870486      0.936036\n",
       "Step count    0.870486     0.870486    1.000000      0.832623\n",
       "Stress Level  0.936036     0.936036    0.832623      1.000000"
      ]
     },
     "execution_count": 12,
     "metadata": {},
     "output_type": "execute_result"
    }
   ],
   "source": [
    "df.corr()"
   ]
  },
  {
   "cell_type": "raw",
   "metadata": {},
   "source": [
    "We understand that Humidity and temperature have direct correlation amongst themselves and they have the same amount of effect on the target column Stress Level."
   ]
  },
  {
   "cell_type": "code",
   "execution_count": 13,
   "metadata": {},
   "outputs": [
    {
     "data": {
      "text/plain": [
       "Humidity        0.936036\n",
       "Temperature     0.936036\n",
       "Step count      0.832623\n",
       "Stress Level    1.000000\n",
       "Name: Stress Level, dtype: float64"
      ]
     },
     "execution_count": 13,
     "metadata": {},
     "output_type": "execute_result"
    }
   ],
   "source": [
    "df.corr()['Stress Level']"
   ]
  },
  {
   "cell_type": "markdown",
   "metadata": {},
   "source": [
    "### Heatmap for visualization of Correlation"
   ]
  },
  {
   "cell_type": "code",
   "execution_count": 14,
   "metadata": {},
   "outputs": [
    {
     "data": {
      "text/plain": [
       "<AxesSubplot:>"
      ]
     },
     "execution_count": 14,
     "metadata": {},
     "output_type": "execute_result"
    },
    {
     "data": {
      "image/png": "[encoded data removed]",
      "text/plain": [
       "<Figure size 432x288 with 2 Axes>"
      ]
     },
     "metadata": {
      "needs_background": "light"
     },
     "output_type": "display_data"
    }
   ],
   "source": [
    "sns.heatmap(df.corr(),cmap='BrBG',linewidths=.5)"
   ]
  },
  {
   "cell_type": "raw",
   "metadata": {},
   "source": [
    "We verify the results found earlier."
   ]
  },
  {
   "cell_type": "markdown",
   "metadata": {},
   "source": [
    "## Renaming columns"
   ]
  },
  {
   "cell_type": "code",
   "execution_count": 15,
   "metadata": {},
   "outputs": [
    {
     "data": {
      "text/html": [
       "<div>\n",
       "<style scoped>\n",
       "    .dataframe tbody tr th:only-of-type {\n",
       "        vertical-align: middle;\n",
       "    }\n",
       "\n",
       "    .dataframe tbody tr th {\n",
       "        vertical-align: top;\n",
       "    }\n",
       "\n",
       "    .dataframe thead th {\n",
       "        text-align: right;\n",
       "    }\n",
       "</style>\n",
       "<table border=\"1\" class=\"dataframe\">\n",
       "  <thead>\n",
       "    <tr style=\"text-align: right;\">\n",
       "      <th></th>\n",
       "      <th>Humidity</th>\n",
       "      <th>Temperature</th>\n",
       "      <th>Steps</th>\n",
       "      <th>Stress</th>\n",
       "    </tr>\n",
       "  </thead>\n",
       "  <tbody>\n",
       "    <tr>\n",
       "      <th>0</th>\n",
       "      <td>21.33</td>\n",
       "      <td>90.33</td>\n",
       "      <td>123</td>\n",
       "      <td>1</td>\n",
       "    </tr>\n",
       "    <tr>\n",
       "      <th>1</th>\n",
       "      <td>21.41</td>\n",
       "      <td>90.41</td>\n",
       "      <td>93</td>\n",
       "      <td>1</td>\n",
       "    </tr>\n",
       "    <tr>\n",
       "      <th>2</th>\n",
       "      <td>27.12</td>\n",
       "      <td>96.12</td>\n",
       "      <td>196</td>\n",
       "      <td>2</td>\n",
       "    </tr>\n",
       "    <tr>\n",
       "      <th>3</th>\n",
       "      <td>27.64</td>\n",
       "      <td>96.64</td>\n",
       "      <td>177</td>\n",
       "      <td>2</td>\n",
       "    </tr>\n",
       "    <tr>\n",
       "      <th>4</th>\n",
       "      <td>10.87</td>\n",
       "      <td>79.87</td>\n",
       "      <td>87</td>\n",
       "      <td>0</td>\n",
       "    </tr>\n",
       "  </tbody>\n",
       "</table>\n",
       "</div>"
      ],
      "text/plain": [
       "   Humidity  Temperature  Steps  Stress\n",
       "0     21.33        90.33    123       1\n",
       "1     21.41        90.41     93       1\n",
       "2     27.12        96.12    196       2\n",
       "3     27.64        96.64    177       2\n",
       "4     10.87        79.87     87       0"
      ]
     },
     "execution_count": 15,
     "metadata": {},
     "output_type": "execute_result"
    }
   ],
   "source": [
    "df=df.rename(columns={'Stress Level':'Stress'},inplace=False)\n",
    "df=df.rename(columns={'Step count':'Steps'},inplace=False)\n",
    "df.head()"
   ]
  },
  {
   "cell_type": "raw",
   "metadata": {},
   "source": [
    "Renaming the columns to avoid future errors due to \" \" (the space) present in some names."
   ]
  },
  {
   "cell_type": "markdown",
   "metadata": {},
   "source": [
    "# EDA"
   ]
  },
  {
   "cell_type": "markdown",
   "metadata": {},
   "source": [
    "## Univariate Analysis"
   ]
  },
  {
   "cell_type": "markdown",
   "metadata": {},
   "source": [
    "### Categorical"
   ]
  },
  {
   "cell_type": "markdown",
   "metadata": {},
   "source": [
    "What is the frequency of each category in the particular feature"
   ]
  },
  {
   "cell_type": "code",
   "execution_count": 16,
   "metadata": {},
   "outputs": [
    {
     "data": {
      "text/plain": [
       "<AxesSubplot:xlabel='Stress', ylabel='count'>"
      ]
     },
     "execution_count": 16,
     "metadata": {},
     "output_type": "execute_result"
    },
    {
     "data": {
      "image/png": "[encoded data removed]",
      "text/plain": [
       "<Figure size 432x288 with 1 Axes>"
      ]
     },
     "metadata": {
      "needs_background": "light"
     },
     "output_type": "display_data"
    }
   ],
   "source": [
    "sns.countplot(x = df['Stress'])"
   ]
  },
  {
   "cell_type": "raw",
   "metadata": {},
   "source": [
    "Though 'Stress' feature is numerical in data type it can be treated as categorical as we saw with.unique() function that it has only 3 unique values.\n",
    "Stress level 1 is high, then 2 then 0. So people with less stress are very low in number compared to those who actually have stress."
   ]
  },
  {
   "cell_type": "code",
   "execution_count": 17,
   "metadata": {},
   "outputs": [
    {
     "data": {
      "text/plain": [
       "<AxesSubplot:ylabel='Stress'>"
      ]
     },
     "execution_count": 17,
     "metadata": {},
     "output_type": "execute_result"
    },
    {
     "data": {
      "image/png": "[encoded data removed]",
      "text/plain": [
       "<Figure size 432x288 with 1 Axes>"
      ]
     },
     "metadata": {},
     "output_type": "display_data"
    }
   ],
   "source": [
    "df['Stress'].value_counts().plot(kind='pie',autopct='%.2f')"
   ]
  },
  {
   "cell_type": "markdown",
   "metadata": {},
   "source": [
    "Percentage distribution in piechart form can be viewed for different categories in the feature."
   ]
  },
  {
   "cell_type": "markdown",
   "metadata": {},
   "source": [
    "### Numerical"
   ]
  },
  {
   "cell_type": "code",
   "execution_count": 18,
   "metadata": {
    "scrolled": false
   },
   "outputs": [
    {
     "data": {
      "text/plain": [
       "(array([10.,  0., 10.,  0.,  0., 10.,  0., 10.,  0.,  0., 10.,  0., 10.,\n",
       "         0.,  0., 10.,  0., 10.,  0.,  0., 10.,  0., 10.,  0.,  0., 10.,\n",
       "         0., 10.,  0.,  0., 10.,  0., 10.,  0.,  0., 10.,  0., 10.,  0.,\n",
       "         0., 10.,  0., 10.,  0.,  0., 10.,  0., 10.,  0.,  0., 10.,  0.,\n",
       "        10.,  0.,  0., 10.,  0., 10.,  0.,  0., 10.,  0., 10.,  0.,  0.,\n",
       "        10.,  0., 10.,  0.,  0., 10.,  0., 10.,  0.,  0., 10.,  0., 10.,\n",
       "         0.,  0., 10.,  0., 10.,  0.,  0., 10.,  0., 10.,  0.,  0., 10.,\n",
       "         0., 10.,  0.,  0., 10.,  0., 10.,  0.,  0., 10.,  0., 10.,  0.,\n",
       "         0., 10.,  0., 10.,  0.,  0., 10.,  0., 10.,  0.,  0., 10.,  0.,\n",
       "        10.,  0.,  0., 10.,  0., 10.,  0.,  0., 10.,  0., 10.,  0.,  0.,\n",
       "        10.,  0., 10.,  0.,  0., 10.,  0., 10.,  0.,  0., 10.,  0., 10.,\n",
       "         0.,  0., 10.,  0., 10.,  0.,  0., 10.,  0., 10.,  0.,  0., 10.,\n",
       "         0., 10.,  0.,  0., 10.,  0., 10.,  0.,  0., 10.,  0., 10.,  0.,\n",
       "         0., 10.,  0., 10.,  0.,  0., 10.,  0., 10.,  0.,  0., 10.,  0.,\n",
       "        10.,  0.,  0., 10.,  0., 10.,  0.,  0., 10.,  0., 10.,  0.,  0.,\n",
       "        10.,  0., 10.,  0.,  0., 10.,  0., 10.,  0.,  0., 10.,  0., 10.,\n",
       "         0.,  0., 10.,  0., 10.,  0.,  0., 10.,  0., 10.,  0.,  0., 10.,\n",
       "         0., 10.,  0.,  0., 10.,  0.,  2.,  0.,  0.,  9.,  0.,  9.,  0.,\n",
       "         0.,  9.,  0.,  9.,  0.,  0.,  9.,  0.,  9.,  0.,  0.,  9.,  0.,\n",
       "         9.,  0.,  0., 10.,  0., 10.,  0.,  0., 10.,  0., 10.,  0.,  0.,\n",
       "        10.,  0., 10.,  0.,  0., 10.,  0., 10.,  0.,  0., 10.,  0., 10.,\n",
       "         0.,  0., 10.,  0., 10.,  0.,  0., 10.,  0., 10.,  0.,  0., 10.,\n",
       "         0., 10.,  0.,  0., 10.,  0., 10.,  0.,  0., 10.,  0., 10.,  0.,\n",
       "         0., 10.,  0., 10.,  0.,  0., 11.,  0., 11.,  0.,  0., 11.,  0.,\n",
       "        11.,  0.,  0., 11.,  0., 11.,  0.,  0., 11.,  0., 10.,  0.,  0.,\n",
       "        10.,  0., 10.,  0.,  0., 10.,  0., 10.,  0.,  0., 10.,  0., 10.,\n",
       "         0.,  0., 10.,  0., 10.,  0.,  0., 10.,  0., 10.,  0.,  0., 10.,\n",
       "         0., 10.,  0.,  0., 10.,  0., 10.,  0.,  0., 10.,  0., 10.,  0.,\n",
       "         0., 10.,  0., 10.,  0.,  0., 10.,  0., 10.,  0.,  0., 10.,  0.,\n",
       "        10.,  0.,  0., 10.,  0., 10.,  0.,  0., 10.,  0., 10.,  0.,  0.,\n",
       "        10.,  0., 10.,  0.,  0., 10.,  0., 10.,  0.,  0., 10.,  0., 10.,\n",
       "         0.,  0., 10.,  0., 10.,  0.,  0., 10.,  0., 10.,  0.,  0., 10.,\n",
       "         0., 10.,  0.,  0., 10.,  0., 10.,  0.,  0., 10.,  0., 10.,  0.,\n",
       "         0., 10.,  0., 10.,  0.,  0., 10.,  0., 10.,  0.,  0., 10.,  0.,\n",
       "        10.,  0.,  0., 10.,  0., 10.,  0.,  0., 10.,  0., 10.,  0.,  0.,\n",
       "        10.,  0., 10.,  0.,  0., 10.,  0., 10.,  0.,  0., 10.,  0., 10.,\n",
       "         0.,  0., 10.,  0., 10.,  0.,  0., 10.,  0., 10.,  0.,  0., 10.,\n",
       "         0., 10.,  0.,  0., 10.,  0., 10.,  0.,  0., 10.,  0., 10.,  0.,\n",
       "         0., 10.,  0., 10.,  0., 10.]),\n",
       " array([  0. ,   0.4,   0.8,   1.2,   1.6,   2. ,   2.4,   2.8,   3.2,\n",
       "          3.6,   4. ,   4.4,   4.8,   5.2,   5.6,   6. ,   6.4,   6.8,\n",
       "          7.2,   7.6,   8. ,   8.4,   8.8,   9.2,   9.6,  10. ,  10.4,\n",
       "         10.8,  11.2,  11.6,  12. ,  12.4,  12.8,  13.2,  13.6,  14. ,\n",
       "         14.4,  14.8,  15.2,  15.6,  16. ,  16.4,  16.8,  17.2,  17.6,\n",
       "         18. ,  18.4,  18.8,  19.2,  19.6,  20. ,  20.4,  20.8,  21.2,\n",
       "         21.6,  22. ,  22.4,  22.8,  23.2,  23.6,  24. ,  24.4,  24.8,\n",
       "         25.2,  25.6,  26. ,  26.4,  26.8,  27.2,  27.6,  28. ,  28.4,\n",
       "         28.8,  29.2,  29.6,  30. ,  30.4,  30.8,  31.2,  31.6,  32. ,\n",
       "         32.4,  32.8,  33.2,  33.6,  34. ,  34.4,  34.8,  35.2,  35.6,\n",
       "         36. ,  36.4,  36.8,  37.2,  37.6,  38. ,  38.4,  38.8,  39.2,\n",
       "         39.6,  40. ,  40.4,  40.8,  41.2,  41.6,  42. ,  42.4,  42.8,\n",
       "         43.2,  43.6,  44. ,  44.4,  44.8,  45.2,  45.6,  46. ,  46.4,\n",
       "         46.8,  47.2,  47.6,  48. ,  48.4,  48.8,  49.2,  49.6,  50. ,\n",
       "         50.4,  50.8,  51.2,  51.6,  52. ,  52.4,  52.8,  53.2,  53.6,\n",
       "         54. ,  54.4,  54.8,  55.2,  55.6,  56. ,  56.4,  56.8,  57.2,\n",
       "         57.6,  58. ,  58.4,  58.8,  59.2,  59.6,  60. ,  60.4,  60.8,\n",
       "         61.2,  61.6,  62. ,  62.4,  62.8,  63.2,  63.6,  64. ,  64.4,\n",
       "         64.8,  65.2,  65.6,  66. ,  66.4,  66.8,  67.2,  67.6,  68. ,\n",
       "         68.4,  68.8,  69.2,  69.6,  70. ,  70.4,  70.8,  71.2,  71.6,\n",
       "         72. ,  72.4,  72.8,  73.2,  73.6,  74. ,  74.4,  74.8,  75.2,\n",
       "         75.6,  76. ,  76.4,  76.8,  77.2,  77.6,  78. ,  78.4,  78.8,\n",
       "         79.2,  79.6,  80. ,  80.4,  80.8,  81.2,  81.6,  82. ,  82.4,\n",
       "         82.8,  83.2,  83.6,  84. ,  84.4,  84.8,  85.2,  85.6,  86. ,\n",
       "         86.4,  86.8,  87.2,  87.6,  88. ,  88.4,  88.8,  89.2,  89.6,\n",
       "         90. ,  90.4,  90.8,  91.2,  91.6,  92. ,  92.4,  92.8,  93.2,\n",
       "         93.6,  94. ,  94.4,  94.8,  95.2,  95.6,  96. ,  96.4,  96.8,\n",
       "         97.2,  97.6,  98. ,  98.4,  98.8,  99.2,  99.6, 100. , 100.4,\n",
       "        100.8, 101.2, 101.6, 102. , 102.4, 102.8, 103.2, 103.6, 104. ,\n",
       "        104.4, 104.8, 105.2, 105.6, 106. , 106.4, 106.8, 107.2, 107.6,\n",
       "        108. , 108.4, 108.8, 109.2, 109.6, 110. , 110.4, 110.8, 111.2,\n",
       "        111.6, 112. , 112.4, 112.8, 113.2, 113.6, 114. , 114.4, 114.8,\n",
       "        115.2, 115.6, 116. , 116.4, 116.8, 117.2, 117.6, 118. , 118.4,\n",
       "        118.8, 119.2, 119.6, 120. , 120.4, 120.8, 121.2, 121.6, 122. ,\n",
       "        122.4, 122.8, 123.2, 123.6, 124. , 124.4, 124.8, 125.2, 125.6,\n",
       "        126. , 126.4, 126.8, 127.2, 127.6, 128. , 128.4, 128.8, 129.2,\n",
       "        129.6, 130. , 130.4, 130.8, 131.2, 131.6, 132. , 132.4, 132.8,\n",
       "        133.2, 133.6, 134. , 134.4, 134.8, 135.2, 135.6, 136. , 136.4,\n",
       "        136.8, 137.2, 137.6, 138. , 138.4, 138.8, 139.2, 139.6, 140. ,\n",
       "        140.4, 140.8, 141.2, 141.6, 142. , 142.4, 142.8, 143.2, 143.6,\n",
       "        144. , 144.4, 144.8, 145.2, 145.6, 146. , 146.4, 146.8, 147.2,\n",
       "        147.6, 148. , 148.4, 148.8, 149.2, 149.6, 150. , 150.4, 150.8,\n",
       "        151.2, 151.6, 152. , 152.4, 152.8, 153.2, 153.6, 154. , 154.4,\n",
       "        154.8, 155.2, 155.6, 156. , 156.4, 156.8, 157.2, 157.6, 158. ,\n",
       "        158.4, 158.8, 159.2, 159.6, 160. , 160.4, 160.8, 161.2, 161.6,\n",
       "        162. , 162.4, 162.8, 163.2, 163.6, 164. , 164.4, 164.8, 165.2,\n",
       "        165.6, 166. , 166.4, 166.8, 167.2, 167.6, 168. , 168.4, 168.8,\n",
       "        169.2, 169.6, 170. , 170.4, 170.8, 171.2, 171.6, 172. , 172.4,\n",
       "        172.8, 173.2, 173.6, 174. , 174.4, 174.8, 175.2, 175.6, 176. ,\n",
       "        176.4, 176.8, 177.2, 177.6, 178. , 178.4, 178.8, 179.2, 179.6,\n",
       "        180. , 180.4, 180.8, 181.2, 181.6, 182. , 182.4, 182.8, 183.2,\n",
       "        183.6, 184. , 184.4, 184.8, 185.2, 185.6, 186. , 186.4, 186.8,\n",
       "        187.2, 187.6, 188. , 188.4, 188.8, 189.2, 189.6, 190. , 190.4,\n",
       "        190.8, 191.2, 191.6, 192. , 192.4, 192.8, 193.2, 193.6, 194. ,\n",
       "        194.4, 194.8, 195.2, 195.6, 196. , 196.4, 196.8, 197.2, 197.6,\n",
       "        198. , 198.4, 198.8, 199.2, 199.6, 200. ]),\n",
       " <BarContainer object of 500 artists>)"
      ]
     },
     "execution_count": 18,
     "metadata": {},
     "output_type": "execute_result"
    },
    {
     "data": {
      "image/png": "[encoded data removed]",
      "text/plain": [
       "<Figure size 432x288 with 1 Axes>"
      ]
     },
     "metadata": {
      "needs_background": "light"
     },
     "output_type": "display_data"
    }
   ],
   "source": [
    "plt.hist(df['Steps'],bins=500)"
   ]
  },
  {
   "cell_type": "raw",
   "metadata": {},
   "source": [
    "Using the histogram we can interprett that people have an average of 125-130."
   ]
  },
  {
   "cell_type": "code",
   "execution_count": 19,
   "metadata": {},
   "outputs": [
    {
     "data": {
      "text/plain": [
       "(array([501.,   0.,   0.,   0.,   0., 790.,   0.,   0.,   0., 710.]),\n",
       " array([0. , 0.2, 0.4, 0.6, 0.8, 1. , 1.2, 1.4, 1.6, 1.8, 2. ]),\n",
       " <BarContainer object of 10 artists>)"
      ]
     },
     "execution_count": 19,
     "metadata": {},
     "output_type": "execute_result"
    },
    {
     "data": {
      "image/png": "[encoded data removed]",
      "text/plain": [
       "<Figure size 432x288 with 1 Axes>"
      ]
     },
     "metadata": {
      "needs_background": "light"
     },
     "output_type": "display_data"
    }
   ],
   "source": [
    "plt.hist(df['Stress'],bins=10)"
   ]
  },
  {
   "cell_type": "markdown",
   "metadata": {},
   "source": [
    "## Bi-Variate Analysis & Multivariate Analysis"
   ]
  },
  {
   "cell_type": "code",
   "execution_count": 20,
   "metadata": {
    "scrolled": true
   },
   "outputs": [
    {
     "data": {
      "text/plain": [
       "<seaborn.axisgrid.PairGrid at 0x1f095d23580>"
      ]
     },
     "execution_count": 20,
     "metadata": {},
     "output_type": "execute_result"
    },
    {
     "data": {
      "image/png": "[encoded data removed]",
      "text/plain": [
       "<Figure size 582.375x540 with 12 Axes>"
      ]
     },
     "metadata": {
      "needs_background": "light"
     },
     "output_type": "display_data"
    }
   ],
   "source": [
    "sns.pairplot(df,hue='Stress') "
   ]
  },
  {
   "cell_type": "raw",
   "metadata": {},
   "source": [
    "Individual Scatter Plot(Numerical-Numerical), Bar Plot(Numerical-Categorical), Box Plot(Numerical-Categorical), Distplot(Numerical-Categorical) are not drawn as a good understanding is achieved via pairplot\n",
    "Also as no categorical data (Except Stress Level which we are treating as Categorical) No categoical feature analysis like: Clustermap,crosstab; is done."
   ]
  },
  {
   "cell_type": "markdown",
   "metadata": {},
   "source": [
    "## 80-20 Split Preparation"
   ]
  },
  {
   "cell_type": "code",
   "execution_count": 21,
   "metadata": {},
   "outputs": [],
   "source": [
    "from sklearn.model_selection import train_test_split\n",
    "\n",
    "X = df.drop(columns=['Stress'])\n",
    "Y = df['Stress']"
   ]
  },
  {
   "cell_type": "markdown",
   "metadata": {},
   "source": [
    "## Normalizing the values"
   ]
  },
  {
   "cell_type": "code",
   "execution_count": 22,
   "metadata": {},
   "outputs": [
    {
     "data": {
      "text/html": [
       "<div>\n",
       "<style scoped>\n",
       "    .dataframe tbody tr th:only-of-type {\n",
       "        vertical-align: middle;\n",
       "    }\n",
       "\n",
       "    .dataframe tbody tr th {\n",
       "        vertical-align: top;\n",
       "    }\n",
       "\n",
       "    .dataframe thead th {\n",
       "        text-align: right;\n",
       "    }\n",
       "</style>\n",
       "<table border=\"1\" class=\"dataframe\">\n",
       "  <thead>\n",
       "    <tr style=\"text-align: right;\">\n",
       "      <th></th>\n",
       "      <th>Humidity</th>\n",
       "      <th>Temp</th>\n",
       "      <th>Steps</th>\n",
       "    </tr>\n",
       "  </thead>\n",
       "  <tbody>\n",
       "    <tr>\n",
       "      <th>0</th>\n",
       "      <td>0.230248</td>\n",
       "      <td>0.230248</td>\n",
       "      <td>0.392972</td>\n",
       "    </tr>\n",
       "    <tr>\n",
       "      <th>1</th>\n",
       "      <td>0.244097</td>\n",
       "      <td>0.244097</td>\n",
       "      <td>-0.122772</td>\n",
       "    </tr>\n",
       "    <tr>\n",
       "      <th>2</th>\n",
       "      <td>1.232604</td>\n",
       "      <td>1.232604</td>\n",
       "      <td>1.647949</td>\n",
       "    </tr>\n",
       "    <tr>\n",
       "      <th>3</th>\n",
       "      <td>1.322626</td>\n",
       "      <td>1.322626</td>\n",
       "      <td>1.321311</td>\n",
       "    </tr>\n",
       "    <tr>\n",
       "      <th>4</th>\n",
       "      <td>-1.580572</td>\n",
       "      <td>-1.580572</td>\n",
       "      <td>-0.225920</td>\n",
       "    </tr>\n",
       "    <tr>\n",
       "      <th>...</th>\n",
       "      <td>...</td>\n",
       "      <td>...</td>\n",
       "      <td>...</td>\n",
       "    </tr>\n",
       "    <tr>\n",
       "      <th>1996</th>\n",
       "      <td>0.315076</td>\n",
       "      <td>0.315076</td>\n",
       "      <td>-0.071197</td>\n",
       "    </tr>\n",
       "    <tr>\n",
       "      <th>1997</th>\n",
       "      <td>-1.653282</td>\n",
       "      <td>-1.653282</td>\n",
       "      <td>-0.947962</td>\n",
       "    </tr>\n",
       "    <tr>\n",
       "      <th>1998</th>\n",
       "      <td>1.249916</td>\n",
       "      <td>1.249916</td>\n",
       "      <td>0.599270</td>\n",
       "    </tr>\n",
       "    <tr>\n",
       "      <th>1999</th>\n",
       "      <td>-1.305314</td>\n",
       "      <td>-1.305314</td>\n",
       "      <td>-0.621324</td>\n",
       "    </tr>\n",
       "    <tr>\n",
       "      <th>2000</th>\n",
       "      <td>-0.541861</td>\n",
       "      <td>-0.541861</td>\n",
       "      <td>-0.862004</td>\n",
       "    </tr>\n",
       "  </tbody>\n",
       "</table>\n",
       "<p>2001 rows × 3 columns</p>\n",
       "</div>"
      ],
      "text/plain": [
       "      Humidity      Temp     Steps\n",
       "0     0.230248  0.230248  0.392972\n",
       "1     0.244097  0.244097 -0.122772\n",
       "2     1.232604  1.232604  1.647949\n",
       "3     1.322626  1.322626  1.321311\n",
       "4    -1.580572 -1.580572 -0.225920\n",
       "...        ...       ...       ...\n",
       "1996  0.315076  0.315076 -0.071197\n",
       "1997 -1.653282 -1.653282 -0.947962\n",
       "1998  1.249916  1.249916  0.599270\n",
       "1999 -1.305314 -1.305314 -0.621324\n",
       "2000 -0.541861 -0.541861 -0.862004\n",
       "\n",
       "[2001 rows x 3 columns]"
      ]
     },
     "execution_count": 22,
     "metadata": {},
     "output_type": "execute_result"
    }
   ],
   "source": [
    "from sklearn.preprocessing import StandardScaler\n",
    "sc=StandardScaler()\n",
    "X=sc.fit_transform(X)\n",
    "df1=pd.DataFrame(X,columns=['Humidity','Temp','Steps'])\n",
    "df1"
   ]
  },
  {
   "cell_type": "code",
   "execution_count": 23,
   "metadata": {},
   "outputs": [],
   "source": [
    "df.to_csv('E:\\VIT\\DAC\\Input\\preprocessed_data.csv')"
   ]
  },
  {
   "cell_type": "markdown",
   "metadata": {},
   "source": [
    "## 80-20 Split"
   ]
  },
  {
   "cell_type": "code",
   "execution_count": 24,
   "metadata": {},
   "outputs": [
    {
     "data": {
      "text/html": [
       "<div>\n",
       "<style scoped>\n",
       "    .dataframe tbody tr th:only-of-type {\n",
       "        vertical-align: middle;\n",
       "    }\n",
       "\n",
       "    .dataframe tbody tr th {\n",
       "        vertical-align: top;\n",
       "    }\n",
       "\n",
       "    .dataframe thead th {\n",
       "        text-align: right;\n",
       "    }\n",
       "</style>\n",
       "<table border=\"1\" class=\"dataframe\">\n",
       "  <thead>\n",
       "    <tr style=\"text-align: right;\">\n",
       "      <th></th>\n",
       "      <th>Humidity</th>\n",
       "      <th>Temperature</th>\n",
       "      <th>Steps</th>\n",
       "      <th>Stress</th>\n",
       "    </tr>\n",
       "  </thead>\n",
       "  <tbody>\n",
       "    <tr>\n",
       "      <th>0</th>\n",
       "      <td>28.65</td>\n",
       "      <td>97.65</td>\n",
       "      <td>136</td>\n",
       "      <td>2</td>\n",
       "    </tr>\n",
       "    <tr>\n",
       "      <th>1</th>\n",
       "      <td>20.54</td>\n",
       "      <td>89.54</td>\n",
       "      <td>120</td>\n",
       "      <td>1</td>\n",
       "    </tr>\n",
       "    <tr>\n",
       "      <th>2</th>\n",
       "      <td>16.31</td>\n",
       "      <td>85.31</td>\n",
       "      <td>85</td>\n",
       "      <td>1</td>\n",
       "    </tr>\n",
       "    <tr>\n",
       "      <th>3</th>\n",
       "      <td>27.83</td>\n",
       "      <td>96.83</td>\n",
       "      <td>196</td>\n",
       "      <td>2</td>\n",
       "    </tr>\n",
       "    <tr>\n",
       "      <th>4</th>\n",
       "      <td>13.11</td>\n",
       "      <td>82.11</td>\n",
       "      <td>38</td>\n",
       "      <td>0</td>\n",
       "    </tr>\n",
       "    <tr>\n",
       "      <th>...</th>\n",
       "      <td>...</td>\n",
       "      <td>...</td>\n",
       "      <td>...</td>\n",
       "      <td>...</td>\n",
       "    </tr>\n",
       "    <tr>\n",
       "      <th>396</th>\n",
       "      <td>22.60</td>\n",
       "      <td>91.60</td>\n",
       "      <td>106</td>\n",
       "      <td>1</td>\n",
       "    </tr>\n",
       "    <tr>\n",
       "      <th>397</th>\n",
       "      <td>12.75</td>\n",
       "      <td>81.75</td>\n",
       "      <td>2</td>\n",
       "      <td>0</td>\n",
       "    </tr>\n",
       "    <tr>\n",
       "      <th>398</th>\n",
       "      <td>15.94</td>\n",
       "      <td>84.94</td>\n",
       "      <td>48</td>\n",
       "      <td>1</td>\n",
       "    </tr>\n",
       "    <tr>\n",
       "      <th>399</th>\n",
       "      <td>11.47</td>\n",
       "      <td>80.47</td>\n",
       "      <td>56</td>\n",
       "      <td>0</td>\n",
       "    </tr>\n",
       "    <tr>\n",
       "      <th>400</th>\n",
       "      <td>18.31</td>\n",
       "      <td>87.31</td>\n",
       "      <td>12</td>\n",
       "      <td>1</td>\n",
       "    </tr>\n",
       "  </tbody>\n",
       "</table>\n",
       "<p>401 rows × 4 columns</p>\n",
       "</div>"
      ],
      "text/plain": [
       "     Humidity  Temperature  Steps  Stress\n",
       "0       28.65        97.65    136       2\n",
       "1       20.54        89.54    120       1\n",
       "2       16.31        85.31     85       1\n",
       "3       27.83        96.83    196       2\n",
       "4       13.11        82.11     38       0\n",
       "..        ...          ...    ...     ...\n",
       "396     22.60        91.60    106       1\n",
       "397     12.75        81.75      2       0\n",
       "398     15.94        84.94     48       1\n",
       "399     11.47        80.47     56       0\n",
       "400     18.31        87.31     12       1\n",
       "\n",
       "[401 rows x 4 columns]"
      ]
     },
     "execution_count": 24,
     "metadata": {},
     "output_type": "execute_result"
    }
   ],
   "source": [
    "from sklearn.model_selection import train_test_split\n",
    "\n",
    "train,test=train_test_split(df,test_size=0.2)\n",
    "train.reset_index(drop=True)\n",
    "test.reset_index(drop=True)"
   ]
  },
  {
   "cell_type": "code",
   "execution_count": 26,
   "metadata": {},
   "outputs": [],
   "source": [
    "train.to_csv('../Input/train.csv')\n",
    "test.to_csv('../Input/test.csv')"
   ]
  },
  {
   "cell_type": "raw",
   "metadata": {},
   "source": [
    "Storing data in train and test files"
   ]
  }
 ],
 "metadata": {
  "interpreter": {
   "hash": "b89b5cfaba6639976dc87ff2fec6d58faec662063367e2c229c520fe71072417"
  },
  "kernelspec": {
   "display_name": "Python 3 (ipykernel)",
   "language": "python",
   "name": "python3"
  },
  "language_info": {
   "codemirror_mode": {
    "name": "ipython",
    "version": 3
   },
   "file_extension": ".py",
   "mimetype": "text/x-python",
   "name": "python",
   "nbconvert_exporter": "python",
   "pygments_lexer": "ipython3",
   "version": "3.9.7"
  }
 },
 "nbformat": 4,
 "nbformat_minor": 2
}
